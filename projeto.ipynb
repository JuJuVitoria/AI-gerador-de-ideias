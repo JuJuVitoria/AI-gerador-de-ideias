{
  "nbformat": 4,
  "nbformat_minor": 0,
  "metadata": {
    "colab": {
      "provenance": [],
      "include_colab_link": true
    },
    "kernelspec": {
      "name": "python3",
      "display_name": "Python 3"
    },
    "language_info": {
      "name": "python"
    }
  },
  "cells": [
    {
      "cell_type": "markdown",
      "metadata": {
        "id": "view-in-github",
        "colab_type": "text"
      },
      "source": [
        "<a href=\"https://colab.research.google.com/github/JuJuVitoria/AI-gerador-de-ideias/blob/main/projeto.ipynb\" target=\"_parent\"><img src=\"https://colab.research.google.com/assets/colab-badge.svg\" alt=\"Open In Colab\"/></a>"
      ]
    },
    {
      "cell_type": "code",
      "execution_count": null,
      "metadata": {
        "id": "ihvBPciQnBPV"
      },
      "outputs": [],
      "source": [
        "!pip install -q google-genai"
      ]
    },
    {
      "cell_type": "code",
      "source": [
        "import os\n",
        "from google.colab import userdata\n",
        "\n",
        "os.environ[\"GOOGLE_API_KEY\"] = userdata.get('GOOGLE_API_KEY')"
      ],
      "metadata": {
        "id": "opdKcNmBnUcS"
      },
      "execution_count": null,
      "outputs": []
    },
    {
      "cell_type": "code",
      "source": [
        "from google import genai\n",
        "\n",
        "client = genai.Client()\n",
        "\n",
        "MODEL_ID = \"gemini-2.0-flash\""
      ],
      "metadata": {
        "id": "1zx1shIAn4HM"
      },
      "execution_count": null,
      "outputs": []
    },
    {
      "cell_type": "code",
      "source": [
        "from IPython.display import HTML, Markdown"
      ],
      "metadata": {
        "id": "LmNVQP9v1rG5"
      },
      "execution_count": null,
      "outputs": []
    },
    {
      "cell_type": "code",
      "source": [
        "from google.genai import types"
      ],
      "metadata": {
        "id": "E9AAi4ItD5oQ"
      },
      "execution_count": null,
      "outputs": []
    },
    {
      "cell_type": "code",
      "source": [
        "chat_config = types.GenerateContentConfig(\n",
        "    system_instruction = \"\"\"\n",
        "    Você é um assistente de bate-papo prestativo e informativo, especializado em responder perguntas sobre os recursos de estudo e os próximos passos sugeridos pelo Agente 'GuiaDeRecursos'.\n",
        "\n",
        "    Seu objetivo principal é:\n",
        "    - Ajudar o usuário a entender o conteúdo dos sites, vídeos, documentos e cursos que foram recomendados.\n",
        "    - Esclarecer dúvidas sobre as sugestões de ações iniciais para começar a explorar a ideia de projeto escolhida.\n",
        "    - Fornecer informações adicionais básicas relacionadas aos temas e tecnologias mencionadas nos recursos.\n",
        "    - Manter um tom amigável e encorajador para apoiar o aprendizado do usuário.\n",
        "\n",
        "    Instruções específicas:\n",
        "    1.  Contexto da Conversa: Você terá acesso à lista de recursos e próximos passos que foram previamente apresentados ao usuário pelo Agente 'GuiaDeRecursos'. Utilize essas informações como contexto para suas respostas.\n",
        "    2.  Receber Perguntas do Usuário: Aguarde as perguntas do usuário sobre os recursos ou os próximos passos.\n",
        "    3.  Responder de Forma Clara e Concisa: Forneça respostas diretas e fáceis de entender. Evite jargões técnicos excessivos, a menos que o usuário demonstre conhecimento prévio.\n",
        "    4.  Basear-se nos Recursos: Priorize responder às perguntas com base nas informações contidas nos recursos que foram fornecidos. Se a resposta não estiver clara nos recursos, você pode fornecer informações gerais básicas sobre o tema.\n",
        "    5.  Incentivar a Exploração: Encoraje o usuário a explorar os próprios recursos para encontrar respostas e a dar os primeiros passos em seu projeto.\n",
        "    6.  Oferecer Ajuda Adicional (com moderação): Se o usuário tiver dúvidas mais complexas que não estão diretamente relacionadas aos recursos iniciais, você pode oferecer sugestões gerais de onde procurar mais informações (ex: \"Para uma compreensão mais aprofundada, sugiro pesquisar por...\", \"Você pode encontrar mais detalhes na documentação de...\").\n",
        "    7.  Lembrar suas Limitações: Você não é um especialista em todas as áreas. Se uma pergunta for muito complexa ou fora do escopo dos recursos iniciais, informe o usuário gentilmente que sua especialidade é auxiliar com os materiais fornecidos para o pontapé inicial.\n",
        "    8.  Manter a Conversa Engajada: Faça perguntas abertas para entender melhor a dúvida do usuário e garantir que sua resposta seja útil.\n",
        "\n",
        "    Exemplo de interação:\n",
        "    Agente 'GuiaDeRecursos': \"Comece assistindo ao primeiro módulo do curso online sobre Redes Neurais.\"\n",
        "    Usuário: \"O que são redes neurais?\"\n",
        "    Você (Chatbot): \"Redes neurais são modelos computacionais inspirados no funcionamento do cérebro humano. O curso deve abordar os conceitos básicos no primeiro módulo. Você já teve a oportunidade de começar a assistir?\"\n",
        "    Usuário: \"Sim, mas ainda não entendi o que é um neurônio artificial.\"\n",
        "    Você (Chatbot): \"Um neurônio artificial é a unidade básica de uma rede neural. Ele recebe entradas, realiza um cálculo simples e produz uma saída. O curso provavelmente explicará isso com mais detalhes, geralmente usando analogias. Qual parte específica sobre o neurônio artificial está te confundindo?\"\n",
        "\n",
        "    Lembre-se de integrar este agente de chatbot ao seu fluxo após o Agente 'GuiaDeRecursos' fornecer os materiais iniciais. O objetivo é oferecer suporte imediato para as primeiras dúvidas do usuário. Dada a hora, concentre-se em ter um prompt claro e conciso para este agente, mesmo que a implementação completa do chatbot seja básica.\n",
        "    Boa sorte com a submissão!\n",
        "    \"\"\",\n",
        ")"
      ],
      "metadata": {
        "id": "Bld96nH2EAJ2"
      },
      "execution_count": null,
      "outputs": []
    },
    {
      "cell_type": "code",
      "source": [
        "chat = client.chats.create(model = MODEL_ID, config = chat_config)"
      ],
      "metadata": {
        "id": "rwXuQwZ2FTZ3"
      },
      "execution_count": null,
      "outputs": []
    },
    {
      "cell_type": "code",
      "source": [
        "!pip install -q google-adk"
      ],
      "metadata": {
        "collapsed": true,
        "id": "CrSLBDVt1637"
      },
      "execution_count": null,
      "outputs": []
    },
    {
      "cell_type": "code",
      "source": [
        "from google.adk.agents import Agent\n",
        "from google.adk.runners import Runner\n",
        "from google.adk.sessions import InMemorySessionService\n",
        "from google.adk.tools import google_search\n",
        "from google.genai import types  # Para criar conteúdos (Content e Part)\n",
        "from datetime import date\n",
        "import textwrap # Para formatar melhor a saída de texto\n",
        "from IPython.display import display, Markdown # Para exibir texto formatado no Colab\n",
        "import requests # Para fazer requisições HTTP\n",
        "import warnings\n",
        "\n",
        "warnings.filterwarnings(\"ignore\")"
      ],
      "metadata": {
        "id": "810ZUaW22J9l"
      },
      "execution_count": null,
      "outputs": []
    },
    {
      "cell_type": "code",
      "source": [
        "def call_agent(agent: Agent, message_text: str) -> str:\n",
        "    # Cria um serviço de sessão em memória\n",
        "    session_service = InMemorySessionService()\n",
        "    # Cria uma nova sessão (você pode personalizar os IDs conforme necessário)\n",
        "    session = session_service.create_session(app_name=agent.name, user_id=\"user1\", session_id=\"session1\")\n",
        "    # Cria um Runner para o agente\n",
        "    runner = Runner(agent=agent, app_name=agent.name, session_service=session_service)\n",
        "    # Cria o conteúdo da mensagem de entrada\n",
        "    content = types.Content(role=\"user\", parts=[types.Part(text=message_text)])\n",
        "\n",
        "    final_response = \"\"\n",
        "    # Itera assincronamente pelos eventos retornados durante a execução do agente\n",
        "    for event in runner.run(user_id=\"user1\", session_id=\"session1\", new_message=content):\n",
        "        if event.is_final_response():\n",
        "          for part in event.content.parts:\n",
        "            if part.text is not None:\n",
        "              final_response += part.text\n",
        "              final_response += \"\\n\"\n",
        "    return final_response"
      ],
      "metadata": {
        "id": "scqBa8goo4lp"
      },
      "execution_count": null,
      "outputs": []
    },
    {
      "cell_type": "code",
      "source": [
        "def to_markdown(text):\n",
        "  text = text.replace('•', '  *')\n",
        "  return Markdown(textwrap.indent(text, '> ', predicate=lambda _: True))"
      ],
      "metadata": {
        "id": "FUHGUJp12rPg"
      },
      "execution_count": null,
      "outputs": []
    },
    {
      "cell_type": "markdown",
      "source": [
        "## Agente de pesquisa de tendências atuais"
      ],
      "metadata": {
        "id": "kbQeTqqj1XzP"
      }
    },
    {
      "cell_type": "code",
      "source": [
        "def agente_pesquisa_tendencias_atuais(area_interesse, data):\n",
        "    pesquisador = Agent(\n",
        "      # Nome do meu agente\n",
        "      name=\"agente_pesquisa_tendencias_atuais\",\n",
        "      # Modelo utlizado\n",
        "      model=\"gemini-2.0-flash\",\n",
        "      # Instruções\n",
        "      instruction=\"\"\"\n",
        "      Objetivo: Identificar os temas, tecnologias, metodologias e necessidades mais relevantes e atuais na área de interesse especificada pelo usuário.\n",
        "      Você receberá como entrada a área de atuação ou o campo em que o usuário deseja gerar ideias (ex: \"marketing digital\", \"desenvolvimento de aplicativos\", ...).\n",
        "      Utilize obrigatoriamente a ferramenta google_search para buscar informações atualizadas sobre a área de até no máximo 4 meses antes data passada.\n",
        "      As buscas devem incluir:\n",
        "      - Artigos de notícias e publicações recentes.\n",
        "      - Blogs e influenciadores relevantes da área.\n",
        "      - Tendências de mercado e relatórios da indústria.\n",
        "      - Discussões em fóruns e comunidades online.\n",
        "      - Casos de sucesso e projetos recentes de destaque.\n",
        "      Foque em identificar o que as pessoas e empresas estão falando e fazendo *agora* nesta área. Quais são os principais problemas que estão tentando resolver ou as novas oportunidades que estão surgindo?\n",
        "      Extrair Temas Chave: Analise os resultados da pesquisa para identificar os principais temas, desafios, oportunidades e tecnologias que estão em evidência na área.\n",
        "      Sintetizar Insights: Organize as informações coletadas em um resumo conciso, listando os 5-7 temas atuais mais relevantes, com uma breve descrição de cada um e por que são considerados importantes no momento.\n",
        "      Formatar Saída: Apresente os temas de forma clara e organizada para o próximo agente.\n",
        "      \"\"\",\n",
        "      # Descrição do modelo\n",
        "      description=\"Agente que pesquisa sobre o tema - tendenciais atuais\",\n",
        "      # Ferramentas\n",
        "      tools=[google_search]\n",
        "    )\n",
        "    entrada_pesquisador_momento = f\"Área de interesse:{area_interesse},Data da pesquisa:{data}\"\n",
        "    pesquisa_tendencias_atuais = call_agent(pesquisador, entrada_pesquisador_momento)\n",
        "    return pesquisa_tendencias_atuais"
      ],
      "metadata": {
        "id": "T09SZVKg21Wz"
      },
      "execution_count": null,
      "outputs": []
    },
    {
      "cell_type": "markdown",
      "source": [
        "# Agente pesquisador de tendências futuras"
      ],
      "metadata": {
        "id": "5OfKmej3nneA"
      }
    },
    {
      "cell_type": "code",
      "source": [
        "def agente_pesquisa_tendencias_futuras(area_interesse, data):\n",
        "    pesquisador_futuro = Agent( # Use a different variable name to avoid confusion\n",
        "      # Nome do meu agente\n",
        "      name=\"agente_pesquisa_tendencias_futuras\", # Update the agent name\n",
        "      # Modelo utlizado\n",
        "      model=\"gemini-2.0-flash\",\n",
        "      # Use 'instruction' instead of 'instructions'\n",
        "      instruction=\"\"\"\n",
        "      Objetivo: Prever e identificar as tendências futuras, tecnologias emergentes e desafios potenciais na área de interesse especificada pelo usuário.\n",
        "      Você receberá como entrada a área de atuação ou o campo em que o usuário deseja gerar ideias (ex: \"inteligência artificial\", \"biotecnologia\", ...).\n",
        "      Utilize obrigatoriamente a ferramenta google_search para buscar informações sobre:\n",
        "      - Relatórios de pesquisa e desenvolvimento.\n",
        "      - Análises de mercado de longo prazo.\n",
        "      - Patentes recentes e inovações.\n",
        "      - Publicações científicas.\n",
        "      - Opiniões de especialistas e futuristas.\n",
        "      - Tendências demográficas e sociais que podem influenciar o futuro da área.\n",
        "      Além de relatórios e patentes, pense em como mudanças sociais, econômicas ou avanços em outras tecnologias (como IA, biotecnologia, etc.) podem impactar esta área no futuro. O que as pesquisas acadêmicas e os especialistas apontam como as próximas grandes coisas?\n",
        "      Extrair Insights Futuros: Analise os resultados da pesquisa para identificar os principais temas, tecnologias, metodologias e desafios que provavelmente serão relevantes na área nos próximos anos.\n",
        "      Sintetizar Previsões: Organize as informações coletadas em um resumo conciso, listando os 5-7 temas futuros mais promissores, com uma breve descrição de cada um e por que são esperados para serem importantes.\n",
        "      Formatar Saída: Apresente os temas de forma clara e organizada para o próximo agente.\n",
        "      \"\"\",\n",
        "      # Descrição do modelo\n",
        "      description=\"Agente que pesquisa sobre o tema - tendencias futuras\", # Update the description\n",
        "      tools=[google_search]\n",
        "    )\n",
        "    entrada_pesquisador_futuro = f\"Área de interesse:{area_interesse},Data da pesquisa:{data}\"\n",
        "    pesquisa_tendencias_futuras = call_agent(pesquisador_futuro, entrada_pesquisador_futuro)\n",
        "    return pesquisa_tendencias_futuras"
      ],
      "metadata": {
        "id": "hrgupieHnnB_"
      },
      "execution_count": null,
      "outputs": []
    },
    {
      "cell_type": "markdown",
      "source": [
        "# Agentes gerador de ideias"
      ],
      "metadata": {
        "id": "slJExvEyCop5"
      }
    },
    {
      "cell_type": "code",
      "source": [
        "def gerador_ideias(tentencias_atuais, tendencias_futuras):\n",
        "  gerador = Agent(\n",
        "      name=\"gerador_de_ideias\",\n",
        "      model=\"gemini-2.0-flash\",\n",
        "      instruction=\"\"\"\n",
        "      Você receberá como entrada a lista de temas atuais (do Agente 1) e as tendências futuras (do Agente 2).\n",
        "      Com essas ideias você irá criar um Brainstorming: Para cada tema atual e cada tendência futura, utilize o Google Gemini para gerar o máximo de ideias de projetos possível. Incentive a criatividade e a exploração de soluções não convencionais.\n",
        "      Seja ousado! Tente gerar ideias que misturem temas de formas inesperadas. E se uma tecnologia futura fosse aplicada para resolver um problema atual de uma forma completamente nova? Pense em 'e se...?' para estimular a criatividade.\n",
        "      Combinar Temas e Tendências: Explore a possibilidade de gerar ideias que estejam na interseção de temas atuais e tendências futuras, buscando projetos que possam ser relevantes tanto agora quanto no futuro.\n",
        "      Variedade de Ideias: Busque gerar ideias de diferentes tipos e escalas (pequenos projetos de portfólio, iniciativas maiores, ferramentas, plataformas, etc.).\n",
        "      Formatar Saída: Apresente uma lista não filtrada de todas as ideias geradas, indicando o tema atual ou a tendência futura que as inspirou.\n",
        "      \"\"\",\n",
        "      description=\"Gerador de ideais para tendências atuais e futuras\"\n",
        "  )\n",
        "  entrada_gerador = f\"Tendências atuais: {tentencias_atuais}\\nTendências futuras: {tendencias_futuras}\"\n",
        "  gerando_ideias = call_agent(gerador, entrada_gerador)\n",
        "  return gerando_ideias"
      ],
      "metadata": {
        "id": "p_yQe7iFryNx"
      },
      "execution_count": null,
      "outputs": []
    },
    {
      "cell_type": "markdown",
      "source": [
        "# Agente avaliador de ideias"
      ],
      "metadata": {
        "id": "smJ5TvpdUb3B"
      }
    },
    {
      "cell_type": "code",
      "source": [
        "def avaliador_de_projetos(ideias_projetos):\n",
        "    avaliador = Agent(\n",
        "        name=\"avaliador_das_ideias_de_projetos\",\n",
        "        model=\"gemini-2.0-flash\",\n",
        "        instruction=\"\"\"\n",
        "        Você terá o papel de ser um crítico. Seu objetivo será avaliar as ideias de projetos geradas pelo Agente 3 com base em critérios predefinidos e fornecer um ranking das ideias mais promissoras para o usuário.\n",
        "        Você agente receberá a lista de ideias geradas pelo Agente 3, onde você irá avaliar cada ideia com base nos seguintes critérios:\n",
        "        - Relevância: Quão relevante a ideia é para os temas atuais e/ou futuros identificados?\n",
        "        - Inovação: Quão original e criativa é a ideia? Apresenta uma nova abordagem ou solução?\n",
        "        - Viabilidade: Quão factível é a implementação do projeto, considerando os recursos e tecnologias disponíveis? (Lembre-se que o foco é inspiração, mas uma ideia completamente irreal pode ser menos útil).\n",
        "        - Potencial de Impacto: Qual o potencial do projeto para gerar valor, resolver um problema ou criar algo significativo?\n",
        "        - Dificuldade Estimada: Qual a estimativa de dificuldade para implementar o projeto (baixa, média, alta)?\n",
        "        Para melhor avaliação dessas ideias você deverá criar um ranking com pontuações de 1 a 10.\n",
        "        Com base no ranking com as pontuações, você devera rankear as ideias de projetos, destacando as 5 ideias mais promissoras, juntamente com a justificativa da sua avaliação para cada uma.\n",
        "        Apresente o ranking das ideias de forma clara, mostrando o título da ideia e um breve resumo da avaliação (pontuações, se aplicável, e justificativa), também apresente uma breve tabela sobre sua avaliação.\n",
        "        \"\"\",\n",
        "        description=\"Avaliador dos projetos\"\n",
        "    )\n",
        "    entrada_avaliador = f\"Ideias para os projetos {ideias_projetos}\"\n",
        "    avaliador_ideias = call_agent(avaliador, entrada_avaliador)\n",
        "    return avaliador_ideias"
      ],
      "metadata": {
        "id": "FNf6TfWns5D9"
      },
      "execution_count": null,
      "outputs": []
    },
    {
      "cell_type": "markdown",
      "source": [
        "# Agente guia de recursos"
      ],
      "metadata": {
        "id": "bpLehqA3Ch1O"
      }
    },
    {
      "cell_type": "code",
      "source": [
        "def guia_de_recursos(tema, pesquisa_do_tema, escolha_usuario):\n",
        "  mentor = Agent(\n",
        "      name=\"orientador\",\n",
        "      model=\"gemini-2.0-flash\",\n",
        "      instruction=\"\"\"\n",
        "      Você receberá as seguintes informações:\n",
        "      - tema: O tema geral da área de interesse do usuário (ex: \"marketing digital\", \"desenvolvimento de aplicativos\").\n",
        "      - pesquisa_do_tema: Os resultados da pesquisa inicial sobre o tema, realizada pelos Agentes 1 e 2 (esta informação pode ser usada para contextualizar a pesquisa, mas o foco principal será na escolha do usuário).\n",
        "      - escolha_usuario: O número correspondente à ideia de projeto que o usuário selecionou no ranking fornecido pelo Agente 4.\n",
        "\n",
        "      Você precisa identificar a Ideia Escolhida: Utilize a escolha_usuario para identificar o título ou uma breve descrição da ideia de projeto correspondente no ranking. O foco da pesquisa será o tema específico desta ideia escolhida.\n",
        "      Utilize a ferramenta [google_search] para realizar uma pesquisa focada no tema central da ideia de projeto escolhida pelo usuário.\n",
        "      A pesquisa deve visar encontrar recursos práticos para iniciantes e materiais introdutórios relacionados diretamente à ideia selecionada.\n",
        "\n",
        "      Tente incluir termos como:\n",
        "      - \"tutorial básico de [tema da ideia escolhida]\"\n",
        "      - \"primeiros passos em [área relacionada à ideia escolhida]\"\n",
        "      - \"guia para iniciantes em [tecnologia chave da ideia escolhida]\"\n",
        "      - \"introdução a [conceito fundamental da ideia escolhida]\"\n",
        "      - \"melhores cursos online para aprender [habilidade necessária para a ideia escolhida]\"\n",
        "      Avalie os resultados da pesquisa e selecione os 3-5 recursos que melhor se encaixam como um ponto de partida para o usuário aprender sobre a ideia específica que ele escolheu.\n",
        "\n",
        "      Priorize:\n",
        "      - Conteúdo introdutório que explica os fundamentos da ideia escolhida.\n",
        "      - Guias práticos e tutoriais que ensinam como começar a implementar algo relacionado à ideia escolhida.\n",
        "      - Plataformas de aprendizado com cursos ou documentação sobre os temas da ideia escolhida.\n",
        "      - Vídeos explicativos que facilitam a compreensão inicial dos conceitos da ideia escolhida.\n",
        "      Ao buscar recursos, priorize aqueles que ofereçam algo prático, como tutoriais passo a passo, exemplos de código, exercícios simples ou projetos 'hello world'. O objetivo é que o usuário possa 'colocar a mão na massa' rapidamente.\n",
        "\n",
        "      Para cada recurso selecionado, forneça:\n",
        "      - Título: O título do recurso encontrado.\n",
        "      - Breve Descrição: Um resumo conciso do que o recurso oferece e por que ele é relevante para começar a aprender sobre a ideia de projeto específica escolhida pelo usuário.\n",
        "      - Link (se aplicável): O link direto para o website, vídeo ou documento.\n",
        "      - Tipo de Recurso: Indique se é um site, vídeo, documento, curso, etc.\n",
        "\n",
        "      Ofereça ao usuário 2-3 sugestões de ações concretas que ele pode tomar imediatamente para começar a explorar a ideia de projeto específica que escolheu.\n",
        "      Seja específico e prático, por exemplo:\n",
        "      - \"Comece assistindo ao primeiro módulo do curso online sobre [tema específico da ideia escolhida].\"\n",
        "      - \"Leia a introdução da documentação oficial de [tecnologia chave da ideia escolhida].\"\n",
        "      - \"Procure por um tutorial simples de 'olá mundo' em [linguagem de programação relacionada à ideia escolhida].\"\n",
        "      - \"Explore os primeiros 5 minutos do vídeo explicativo sobre [conceito fundamental da ideia escolhida].\"\n",
        "\n",
        "      Apresente os recursos e os próximos passos de forma clara, concisa e organizada, utilizando marcadores ou listas para facilitar a leitura.\n",
        "      Incentive o usuário a começar por esses materiais focados na ideia que ele demonstrou interesse.\n",
        "      \"\"\",\n",
        "      description=\"Agente guia de recursos\",\n",
        "      tools=[google_search]\n",
        "  )\n",
        "  entrada_orientador=f\"Tema escolhido pelo usuário: {tema}\\nPesquisa feita pelo agente anterior: {pesquisa_do_tema}\\n Ideia escolhida pelo usuário: {escolha_usuario}\"\n",
        "  orientador_proximos_passos = call_agent(mentor, entrada_orientador)\n",
        "  return orientador_proximos_passos"
      ],
      "metadata": {
        "id": "1zmzKQSSCeY_"
      },
      "execution_count": null,
      "outputs": []
    },
    {
      "cell_type": "markdown",
      "source": [
        "## Chat bot"
      ],
      "metadata": {
        "id": "-N1zIxHIUYo1"
      }
    },
    {
      "cell_type": "code",
      "source": [
        "def interacao_chatbot(chat):\n",
        "    print(\"\\nBem-vindo ao Chatbot de Apoio ao para seu Projeto\")\n",
        "    print(\"Digite sua pergunta sobre os recursos e próximos passos (ou 'fim' para sair).\")\n",
        "\n",
        "    prompt_usuario = input(\"Sua pergunta: \")\n",
        "\n",
        "    while prompt_usuario.lower() != \"fim\":\n",
        "        try:\n",
        "            resposta = chat.send_message(prompt_usuario)\n",
        "            display(to_markdown(resposta.text))\n",
        "        except Exception as e:\n",
        "            print(f\"Ocorreu um erro ao enviar a mensagem: {e}\")\n",
        "\n",
        "        print(\"\\nDigite sua próxima pergunta (ou 'fim' para sair).\")\n",
        "        prompt_usuario = input(\"Sua pergunta: \")\n",
        "\n",
        "    print(\"\\nObrigado por usar o Chatbot de Apoio!\")"
      ],
      "metadata": {
        "id": "sQ6-kqEeFeXW"
      },
      "execution_count": null,
      "outputs": []
    },
    {
      "cell_type": "markdown",
      "source": [
        "# Funcionamento"
      ],
      "metadata": {
        "id": "R-veJde6UUN9"
      }
    },
    {
      "cell_type": "code",
      "source": [
        "data = date.today().strftime(\"%d/%m/%Y\")\n",
        "\n",
        "print(\"🚀 E aí! Vamos botar a mão na massa e criar um projeto irado com a ajuda dos nossos agentes! 🚀\")\n",
        "\n",
        "while True:\n",
        "  area_interesse = input(\"Primeiro, qual a área que te interessa para criarmos projetos? \")\n",
        "  if area_interesse == \"\":\n",
        "    print(\"Opa, preciso saber a área! Se quiser parar por aqui, só digitar 'fechar'.\")\n",
        "  elif area_interesse.lower() == \"fechar\":\n",
        "    print(\"Fechou! Até a próxima.\")\n",
        "    break\n",
        "  else:\n",
        "    break\n",
        "\n",
        "print(f\"\\nBeleza! Estamos dando uma olhada no que tá rolando *agora* em {area_interesse}...\")\n",
        "tendencias_atuais = agente_pesquisa_tendencias_atuais(area_interesse, data)\n",
        "\n",
        "print(\"Show! E para ter ideias ainda melhores, vamos espiar um pouco o que vem por aí... Pesquisando tendências futuras!\")\n",
        "tendencias_futuras = agente_pesquisa_tendencias_futuras(area_interesse, data)\n",
        "\n",
        "print(\"\\nCom essas informações em mãos, nossos agentes estão tendo um monte de ideias! Segura aí...\")\n",
        "ideias = gerador_ideias(tendencias_atuais, tendencias_futuras)\n",
        "display(to_markdown(ideias))\n",
        "\n",
        "print(\"Peraí, não acabou! Agora vamos ser um pouco críticos e avaliar essas ideias para ver quais se destacam mais.\")\n",
        "avaliacao = avaliador_de_projetos(ideias)\n",
        "display(to_markdown(avaliacao))\n",
        "\n",
        "print(\"\"\"\n",
        "    E aí, o que achou? Espero que tenha curtido as ideias e a nossa avaliação!\n",
        "\n",
        "    Curtiu alguma em especial e quer saber como dar os primeiros passos?\n",
        "    Se sim, escolhe aí o número da ideia no ranking (de 1 a 5) que você mais gostou.\n",
        "    Se quiser parar por aqui, só digitar 0.\n",
        "\"\"\")\n",
        "while True:\n",
        "    try:\n",
        "      escolha_user = int(input(\"Minha escolha é a número: \"))\n",
        "      if 1 <= escolha_user <= 5:\n",
        "        print(f\"\\nÓtima escolha! Vamos buscar uns recursos para te ajudar a começar na ideia {escolha_user}...\")\n",
        "        recursos = guia_de_recursos(area_interesse, ideias, escolha_user)\n",
        "        break\n",
        "      elif escolha_user == 0:\n",
        "        print(\"Fechando por aqui. Qualquer coisa, é só chamar de novo!\")\n",
        "        break\n",
        "      else:\n",
        "        print(\"Essa opção não rolou. Escolhe um número entre 1 e 5, ou 0 pra fechar.\")\n",
        "    except ValueError:\n",
        "      print(\"Hmm, parece que você não digitou um número. Tenta de novo!\")\n",
        "\n",
        "if escolha_user != 0:\n",
        "    display(to_markdown(recursos))\n",
        "\n",
        "    print(\"\\nE aí, curtiu os recursos? Quer trocar uma ideia sobre eles ou sobre o projeto que escolheu?\")\n",
        "    while True:\n",
        "      interacao = input(\"Pra gente bater um papo com o chatbot, digita S (Sim) ou N (Não): \")\n",
        "      if interacao.lower() == \"s\":\n",
        "        interacao_chatbot(chat) # Passa o objeto chat aqui\n",
        "        break\n",
        "      elif interacao.lower() == \"n\":\n",
        "        print(\"Beleza! Se precisar de algo, é só rodar o código de novo.\")\n",
        "        break\n",
        "      else:\n",
        "        print(\"Não entendi. Digita S pra sim ou N pra não.\")"
      ],
      "metadata": {
        "colab": {
          "base_uri": "https://localhost:8080/",
          "height": 1000
        },
        "collapsed": true,
        "id": "qhn7U-I2Ndm1",
        "outputId": "771c6290-90d4-4668-cf7f-ae787b216c70"
      },
      "execution_count": null,
      "outputs": [
        {
          "metadata": {
            "tags": null
          },
          "name": "stdout",
          "output_type": "stream",
          "text": [
            "🚀 E aí! Vamos botar a mão na massa e criar um projeto irado com a ajuda dos nossos agentes! 🚀\n",
            "\n",
            "Beleza! Estamos dando uma olhada no que tá rolando *agora* em Engenharia de Software...\n",
            "Show! E para ter ideias ainda melhores, vamos espiar um pouco o que vem por aí... Pesquisando tendências futuras!\n",
            "\n",
            "Com essas informações em mãos, nossos agentes estão tendo um monte de ideias! Segura aí...\n"
          ]
        },
        {
          "metadata": {
            "tags": null
          },
          "name": "stderr",
          "output_type": "stream",
          "text": [
            "Exception in thread Thread-163 (_asyncio_thread_main):\n",
            "Traceback (most recent call last):\n",
            "  File \"/usr/lib/python3.11/threading.py\", line 1045, in _bootstrap_inner\n",
            "    self.run()\n",
            "  File \"/usr/lib/python3.11/threading.py\", line 982, in run\n",
            "    self._target(*self._args, **self._kwargs)\n",
            "  File \"/usr/local/lib/python3.11/dist-packages/google/adk/runners.py\", line 138, in _asyncio_thread_main\n",
            "    asyncio.run(_invoke_run_async())\n",
            "  File \"/usr/lib/python3.11/asyncio/runners.py\", line 190, in run\n",
            "    return runner.run(main)\n",
            "           ^^^^^^^^^^^^^^^^\n",
            "  File \"/usr/lib/python3.11/asyncio/runners.py\", line 118, in run\n",
            "    return self._loop.run_until_complete(task)\n",
            "           ^^^^^^^^^^^^^^^^^^^^^^^^^^^^^^^^^^^\n",
            "  File \"/usr/lib/python3.11/asyncio/base_events.py\", line 654, in run_until_complete\n",
            "    return future.result()\n",
            "           ^^^^^^^^^^^^^^^\n",
            "  File \"/usr/local/lib/python3.11/dist-packages/google/adk/runners.py\", line 126, in _invoke_run_async\n",
            "    async for event in self.run_async(\n",
            "  File \"/usr/local/lib/python3.11/dist-packages/google/adk/runners.py\", line 197, in run_async\n",
            "    async for event in invocation_context.agent.run_async(invocation_context):\n",
            "  File \"/usr/local/lib/python3.11/dist-packages/google/adk/agents/base_agent.py\", line 133, in run_async\n",
            "    async for event in self._run_async_impl(ctx):\n",
            "  File \"/usr/local/lib/python3.11/dist-packages/google/adk/agents/llm_agent.py\", line 246, in _run_async_impl\n",
            "    async for event in self._llm_flow.run_async(ctx):\n",
            "  File \"/usr/local/lib/python3.11/dist-packages/google/adk/flows/llm_flows/base_llm_flow.py\", line 243, in run_async\n",
            "    async for event in self._run_one_step_async(invocation_context):\n",
            "  File \"/usr/local/lib/python3.11/dist-packages/google/adk/flows/llm_flows/base_llm_flow.py\", line 268, in _run_one_step_async\n",
            "    async for llm_response in self._call_llm_async(\n",
            "  File \"/usr/local/lib/python3.11/dist-packages/google/adk/flows/llm_flows/base_llm_flow.py\", line 483, in _call_llm_async\n",
            "    async for llm_response in llm.generate_content_async(\n",
            "  File \"/usr/local/lib/python3.11/dist-packages/google/adk/models/google_llm.py\", line 140, in generate_content_async\n",
            "    response = await self.api_client.aio.models.generate_content(\n",
            "               ^^^^^^^^^^^^^^^^^^^^^^^^^^^^^^^^^^^^^^^^^^^^^^^^^^\n",
            "  File \"/usr/local/lib/python3.11/dist-packages/google/genai/models.py\", line 6672, in generate_content\n",
            "    response = await self._generate_content(\n",
            "               ^^^^^^^^^^^^^^^^^^^^^^^^^^^^^\n",
            "  File \"/usr/local/lib/python3.11/dist-packages/google/genai/models.py\", line 5674, in _generate_content\n",
            "    response_dict = await self._api_client.async_request(\n",
            "                    ^^^^^^^^^^^^^^^^^^^^^^^^^^^^^^^^^^^^^\n",
            "  File \"/usr/local/lib/python3.11/dist-packages/google/genai/_api_client.py\", line 789, in async_request\n",
            "    result = await self._async_request(http_request=http_request, stream=False)\n",
            "             ^^^^^^^^^^^^^^^^^^^^^^^^^^^^^^^^^^^^^^^^^^^^^^^^^^^^^^^^^^^^^^^^^^\n",
            "  File \"/usr/local/lib/python3.11/dist-packages/google/genai/_api_client.py\", line 733, in _async_request\n",
            "    await errors.APIError.raise_for_async_response(response)\n",
            "  File \"/usr/local/lib/python3.11/dist-packages/google/genai/errors.py\", line 129, in raise_for_async_response\n",
            "    raise ClientError(status_code, response_json, response)\n",
            "google.genai.errors.ClientError: 429 RESOURCE_EXHAUSTED. {'error': {'code': 429, 'message': 'You exceeded your current quota, please check your plan and billing details. For more information on this error, head to: https://ai.google.dev/gemini-api/docs/rate-limits.', 'status': 'RESOURCE_EXHAUSTED', 'details': [{'@type': 'type.googleapis.com/google.rpc.QuotaFailure', 'violations': [{'quotaMetric': 'generativelanguage.googleapis.com/generate_content_free_tier_input_token_count', 'quotaId': 'GenerateContentInputTokensPerModelPerMinute-FreeTier', 'quotaDimensions': {'model': 'gemini-1.5-pro', 'location': 'global'}}, {'quotaMetric': 'generativelanguage.googleapis.com/generate_content_free_tier_requests', 'quotaId': 'GenerateRequestsPerMinutePerProjectPerModel-FreeTier', 'quotaDimensions': {'location': 'global', 'model': 'gemini-1.5-pro'}}, {'quotaMetric': 'generativelanguage.googleapis.com/generate_content_free_tier_requests', 'quotaId': 'GenerateRequestsPerDayPerProjectPerModel-FreeTier', 'quotaDimensions': {'model': 'gemini-1.5-pro', 'location': 'global'}}]}, {'@type': 'type.googleapis.com/google.rpc.Help', 'links': [{'description': 'Learn more about Gemini API quotas', 'url': 'https://ai.google.dev/gemini-api/docs/rate-limits'}]}, {'@type': 'type.googleapis.com/google.rpc.RetryInfo', 'retryDelay': '45s'}]}}\n"
          ]
        },
        {
          "data": {
            "text/markdown": "",
            "text/plain": [
              "<IPython.core.display.Markdown object>"
            ]
          },
          "metadata": {},
          "output_type": "display_data"
        },
        {
          "metadata": {
            "tags": null
          },
          "name": "stderr",
          "output_type": "stream",
          "text": [
            "ERROR:asyncio:Task exception was never retrieved\n",
            "future: <Task finished name='Task-473' coro=<AsyncClient.aclose() done, defined at /usr/local/lib/python3.11/dist-packages/httpx/_client.py:1978> exception=RuntimeError('Event loop is closed')>\n",
            "Traceback (most recent call last):\n",
            "  File \"/usr/local/lib/python3.11/dist-packages/httpx/_client.py\", line 1985, in aclose\n",
            "    await self._transport.aclose()\n",
            "  File \"/usr/local/lib/python3.11/dist-packages/httpx/_transports/default.py\", line 406, in aclose\n",
            "    await self._pool.aclose()\n",
            "  File \"/usr/local/lib/python3.11/dist-packages/httpcore/_async/connection_pool.py\", line 353, in aclose\n",
            "    await self._close_connections(closing_connections)\n",
            "  File \"/usr/local/lib/python3.11/dist-packages/httpcore/_async/connection_pool.py\", line 345, in _close_connections\n",
            "    await connection.aclose()\n",
            "  File \"/usr/local/lib/python3.11/dist-packages/httpcore/_async/connection.py\", line 173, in aclose\n",
            "    await self._connection.aclose()\n",
            "  File \"/usr/local/lib/python3.11/dist-packages/httpcore/_async/http11.py\", line 258, in aclose\n",
            "    await self._network_stream.aclose()\n",
            "  File \"/usr/local/lib/python3.11/dist-packages/httpcore/_backends/anyio.py\", line 53, in aclose\n",
            "    await self._stream.aclose()\n",
            "  File \"/usr/local/lib/python3.11/dist-packages/anyio/streams/tls.py\", line 216, in aclose\n",
            "    await self.transport_stream.aclose()\n",
            "  File \"/usr/local/lib/python3.11/dist-packages/anyio/_backends/_asyncio.py\", line 1314, in aclose\n",
            "    self._transport.close()\n",
            "  File \"/usr/lib/python3.11/asyncio/selector_events.py\", line 864, in close\n",
            "    self._loop.call_soon(self._call_connection_lost, None)\n",
            "  File \"/usr/lib/python3.11/asyncio/base_events.py\", line 762, in call_soon\n",
            "    self._check_closed()\n",
            "  File \"/usr/lib/python3.11/asyncio/base_events.py\", line 520, in _check_closed\n",
            "    raise RuntimeError('Event loop is closed')\n",
            "RuntimeError: Event loop is closed\n"
          ]
        },
        {
          "metadata": {
            "tags": null
          },
          "name": "stdout",
          "output_type": "stream",
          "text": [
            "Peraí, não acabou! Agora vamos ser um pouco críticos e avaliar essas ideias para ver quais se destacam mais.\n"
          ]
        },
        {
          "metadata": {
            "tags": null
          },
          "name": "stderr",
          "output_type": "stream",
          "text": [
            "Exception in thread Thread-165 (_asyncio_thread_main):\n",
            "Traceback (most recent call last):\n",
            "  File \"/usr/lib/python3.11/threading.py\", line 1045, in _bootstrap_inner\n",
            "    self.run()\n",
            "  File \"/usr/lib/python3.11/threading.py\", line 982, in run\n",
            "    self._target(*self._args, **self._kwargs)\n",
            "  File \"/usr/local/lib/python3.11/dist-packages/google/adk/runners.py\", line 138, in _asyncio_thread_main\n",
            "    asyncio.run(_invoke_run_async())\n",
            "  File \"/usr/lib/python3.11/asyncio/runners.py\", line 190, in run\n",
            "    return runner.run(main)\n",
            "           ^^^^^^^^^^^^^^^^\n",
            "  File \"/usr/lib/python3.11/asyncio/runners.py\", line 118, in run\n",
            "    return self._loop.run_until_complete(task)\n",
            "           ^^^^^^^^^^^^^^^^^^^^^^^^^^^^^^^^^^^\n",
            "  File \"/usr/lib/python3.11/asyncio/base_events.py\", line 654, in run_until_complete\n",
            "    return future.result()\n",
            "           ^^^^^^^^^^^^^^^\n",
            "  File \"/usr/local/lib/python3.11/dist-packages/google/adk/runners.py\", line 126, in _invoke_run_async\n",
            "    async for event in self.run_async(\n",
            "  File \"/usr/local/lib/python3.11/dist-packages/google/adk/runners.py\", line 197, in run_async\n",
            "    async for event in invocation_context.agent.run_async(invocation_context):\n",
            "  File \"/usr/local/lib/python3.11/dist-packages/google/adk/agents/base_agent.py\", line 133, in run_async\n",
            "    async for event in self._run_async_impl(ctx):\n",
            "  File \"/usr/local/lib/python3.11/dist-packages/google/adk/agents/llm_agent.py\", line 246, in _run_async_impl\n",
            "    async for event in self._llm_flow.run_async(ctx):\n",
            "  File \"/usr/local/lib/python3.11/dist-packages/google/adk/flows/llm_flows/base_llm_flow.py\", line 243, in run_async\n",
            "    async for event in self._run_one_step_async(invocation_context):\n",
            "  File \"/usr/local/lib/python3.11/dist-packages/google/adk/flows/llm_flows/base_llm_flow.py\", line 268, in _run_one_step_async\n",
            "    async for llm_response in self._call_llm_async(\n",
            "  File \"/usr/local/lib/python3.11/dist-packages/google/adk/flows/llm_flows/base_llm_flow.py\", line 483, in _call_llm_async\n",
            "    async for llm_response in llm.generate_content_async(\n",
            "  File \"/usr/local/lib/python3.11/dist-packages/google/adk/models/google_llm.py\", line 140, in generate_content_async\n",
            "    response = await self.api_client.aio.models.generate_content(\n",
            "               ^^^^^^^^^^^^^^^^^^^^^^^^^^^^^^^^^^^^^^^^^^^^^^^^^^\n",
            "  File \"/usr/local/lib/python3.11/dist-packages/google/genai/models.py\", line 6672, in generate_content\n",
            "    response = await self._generate_content(\n",
            "               ^^^^^^^^^^^^^^^^^^^^^^^^^^^^^\n",
            "  File \"/usr/local/lib/python3.11/dist-packages/google/genai/models.py\", line 5674, in _generate_content\n",
            "    response_dict = await self._api_client.async_request(\n",
            "                    ^^^^^^^^^^^^^^^^^^^^^^^^^^^^^^^^^^^^^\n",
            "  File \"/usr/local/lib/python3.11/dist-packages/google/genai/_api_client.py\", line 789, in async_request\n",
            "    result = await self._async_request(http_request=http_request, stream=False)\n",
            "             ^^^^^^^^^^^^^^^^^^^^^^^^^^^^^^^^^^^^^^^^^^^^^^^^^^^^^^^^^^^^^^^^^^\n",
            "  File \"/usr/local/lib/python3.11/dist-packages/google/genai/_api_client.py\", line 733, in _async_request\n",
            "    await errors.APIError.raise_for_async_response(response)\n",
            "  File \"/usr/local/lib/python3.11/dist-packages/google/genai/errors.py\", line 129, in raise_for_async_response\n",
            "    raise ClientError(status_code, response_json, response)\n",
            "google.genai.errors.ClientError: 429 RESOURCE_EXHAUSTED. {'error': {'code': 429, 'message': 'You exceeded your current quota, please check your plan and billing details. For more information on this error, head to: https://ai.google.dev/gemini-api/docs/rate-limits.', 'status': 'RESOURCE_EXHAUSTED', 'details': [{'@type': 'type.googleapis.com/google.rpc.QuotaFailure', 'violations': [{'quotaMetric': 'generativelanguage.googleapis.com/generate_content_free_tier_input_token_count', 'quotaId': 'GenerateContentInputTokensPerModelPerMinute-FreeTier', 'quotaDimensions': {'location': 'global', 'model': 'gemini-1.5-pro'}}, {'quotaMetric': 'generativelanguage.googleapis.com/generate_content_free_tier_requests', 'quotaId': 'GenerateRequestsPerMinutePerProjectPerModel-FreeTier', 'quotaDimensions': {'location': 'global', 'model': 'gemini-1.5-pro'}}, {'quotaMetric': 'generativelanguage.googleapis.com/generate_content_free_tier_requests', 'quotaId': 'GenerateRequestsPerDayPerProjectPerModel-FreeTier', 'quotaDimensions': {'location': 'global', 'model': 'gemini-1.5-pro'}}]}, {'@type': 'type.googleapis.com/google.rpc.Help', 'links': [{'description': 'Learn more about Gemini API quotas', 'url': 'https://ai.google.dev/gemini-api/docs/rate-limits'}]}, {'@type': 'type.googleapis.com/google.rpc.RetryInfo', 'retryDelay': '44s'}]}}\n"
          ]
        },
        {
          "data": {
            "text/markdown": "",
            "text/plain": [
              "<IPython.core.display.Markdown object>"
            ]
          },
          "metadata": {},
          "output_type": "display_data"
        },
        {
          "metadata": {
            "tags": null
          },
          "name": "stdout",
          "output_type": "stream",
          "text": [
            "\n",
            "    E aí, o que achou? Espero que tenha curtido as ideias e a nossa avaliação!\n",
            "\n",
            "    Curtiu alguma em especial e quer saber como dar os primeiros passos?\n",
            "    Se sim, escolhe aí o número da ideia no ranking (de 1 a 5) que você mais gostou.\n",
            "    Se quiser parar por aqui, só digitar 0.\n",
            "    \n"
          ]
        }
      ]
    }
  ]
}